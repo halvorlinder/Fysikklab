{
 "cells": [
  {
   "attachments": {},
   "cell_type": "markdown",
   "id": "65c88b08-8adf-4998-be6e-dd1a43db46c2",
   "metadata": {},
   "source": [
    "# Labrapport som Jupyter Notebook på fysikklab våren 2023\n",
    "Skrevet 16.03.2023 <br>\n",
    "Skrevet av Emma Amalie Chun Hui Birkhaug Pedersen, Halvor Linder Henriksen, Oskar Jørgensen og Sindre Eidskrem <br>\n",
    "Institutt for Fysikk, NTNU\n",
    "***"
   ]
  },
  {
   "attachments": {},
   "cell_type": "markdown",
   "id": "7792909c-f7e7-447d-9b3f-7ad73c4ac56c",
   "metadata": {},
   "source": [
    "## Sammendrag\n",
    "Sammendraget inneholder en konsis oppsummering av innholdet i oppgaven. Det kan være en god idé å skrive denne delen til slutt, når du har god oversikt over hele teksten. Typisk inneholder sammendraget 4-5 setninger. På disse få setningene skal førsøket introduseres, de eksperimentelle og numeriske metodene nevnes, og resultatene - og deres betydning - skal presenteres. Sentrale tallverdier oppgis med tilhørende usikkerhet.\n",
    "\n",
    "***"
   ]
  },
  {
   "attachments": {},
   "cell_type": "markdown",
   "id": "c768bc29-6c3b-4f31-b896-877254d81848",
   "metadata": {},
   "source": [
    "## Introduksjon\n",
    "Selve rapporten starter her. Introduksjonen bør inneholde en tydelig motivasjon og hensikt ved forsøket. Her kan også teksten settes i en historisk sammenheng. Det vil i så fall være natulig å referere til relevant litteratur.\n",
    "***"
   ]
  },
  {
   "attachments": {},
   "cell_type": "markdown",
   "id": "c776efaa-105e-4587-85d0-3e10778fda0b",
   "metadata": {},
   "source": [
    "## Teori\n",
    "Her presenteres relevant teori nødvendig for å lese resten av rapporten. Jupyter notebook støtter LaTeX-kode, så dere kan inkludere fint formaterte ligninger her. For eksempel har vi sett at baneakselerasjonen til ei kompakt kule som ruller på et krumt underlag uten å slure (gli) er gitt ved\n",
    "$$a = -\\frac{5g\\sin{\\beta}}{7}$$\n",
    "\n",
    "der $g$ er tyngdens akselerasjon og $\\beta$ er banens helningsvinkel. Her forklarer vi alle nye størrelser som blir innført med ord. <br>\n",
    "For at dette skal ha god flyt, skal ligningene kunne leses som en naturlig del av setningen, slik som ovenfor. \n",
    "\n",
    "Teoridelen inneholder ikke referanser til selve forsøket. Den er generell og kan leses isolert fra resten av rapporten.\n",
    "\n",
    "Her vil det ofte være naturlig å inkludere en eller flere forklarende figurer. Disse skal dere lage selv, for eksempel ved hjelp av [Inkscape](https://inkscape.org/) som er et nokså brukervennlig program for å lage vektorgrafikk. Her er et eksempel på en slik figur:\n",
    "\n",
    "\n",
    "Under er det som vi har skrevet. Beholder dette ovenfor fordi det står litt om hvordan det skal skrives\n",
    "\n",
    "\n",
    "\n",
    "### Ren rulling på krumt underlag\n",
    "Her diskuteres teori rundt forsøket. Bevarelse av mekanisk energi og Newtons 2. lov brukes til å utlede likninger for hastighet, akselerasjon, krefter og energi.\n",
    "\n",
    "#### Energi og Hastighet ved bevarelse av mekanisk energi\n",
    "Siden det antas ren rulling (ingen sluring) er den mekaniske energien til kule bevart gjennom forsøket. Det vil si at summen av den potensille og kinetiske energien til kula vil være konstant gjennom forsøket.\n",
    "\n",
    "$$E=U_i + K_i = U_j + K_j\\tag{1}$$\n",
    "\n",
    "Der henholdsvis $U_i$ og  $K_i$ er kulas potensielle og kinetiske energi ved punkt $i$. I starten av forsøket står kula stille og vi måler potensiell energi med høyde null som utgangspunkt. Da er den mekaniske energien i ved startpunktet lik denne potensielle energien gitt ved at kule befinner seg på høyden til startpunktet.\n",
    "\n",
    "$$E = U_0 = mgy_0\\tag{2}$$\n",
    "\n",
    "Der $m$ er kulas masse, $g$ er tyngdens akselerasjon og $y_0$ er høyden til den første skruen (høyden til kula over nullpunktet).\n",
    "Kulas kinetiske energi er ved etthvert punkt gitt som summen translasjonsenergien og rotasjonsenergien.\n",
    "\n",
    "$$K =  \\frac{mv^2}{2} + \\frac{cmv^2}{2} = \\frac{1+c}{2}mv^2 \\tag{3}$$\n",
    "\n",
    "Der $v$ er kulas hastighet og $c$ er konstansten som inngår i uttrykket for treghetsmomentet til rullende legemer. I dette tilfellet er legemet en kule og $c = 2/5$.\n",
    "\n",
    "Ved å kombinere ligningene $(1), (2)$ og $(3)$ kan vi finne et utrykk for kulas hastighet gitt ved kulas vertikale posisjon $y$ (høyden til banen)\n",
    "\n",
    "$$v(y) = \\sqrt{\\frac{2g(y_0 - y)}{1 + c}}  \\tag{4}$$\n",
    "\n",
    "Hastigheten kan også oppfattes som en funksjon av kulas horisontale posisjon $x$ siden vi kjenner baneformen som en funksjon $y(x)$.\n",
    "\n",
    "#### Akselerasjon\n",
    "\n",
    "Som nevnt kjenner vi baneformen $y(x)$. Vi kjenner også 1. og 2. deriverte av denne. Disse vil inngå i utrykkene for kulas akselerasjon.\n",
    "Krumningsradien til  banen er gitt ved utrykket\n",
    "\n",
    "$$ R = \\frac{[1 + (y')^2]^{3/2}}{y''}  \\tag{5}$$\n",
    "\n",
    "Der $y''$ er den 2. deriverte av baneformen\n",
    "\n",
    "Kulas sentripetalakselerasjon er gitt som \n",
    "\n",
    "$$a_\\perp = \\frac{v^2}{R} = \\frac{2g(y_0 - y)}{1+c} * \\frac{y''}{[1 + (y')^2]^{3/2}} \\tag{6}$$\n",
    "\n",
    "Fortegnet for $a_\\perp$ vil være positivt når banen krummer oppover, og negativt når banen krummer nedover.\n",
    "\n",
    "#### Krefter og Newtons 2. lov\n",
    "Kreftene som virker på kula er tygndegraften $mg$, normalkraften fra banen på kula  $N$, og den statiske friksjonskraften $f$ mellom kula og banen.\n",
    "\n",
    "For å finne normalkraften $N$, brukes Netwons 2. lov\n",
    " \n",
    "\n"
   ]
  },
  {
   "cell_type": "code",
   "execution_count": 1,
   "id": "c373cade-ba88-44b8-91be-b0401089572e",
   "metadata": {},
   "outputs": [],
   "source": [
    "from IPython import display\n",
    "#display.Image(\"./krefter.png\", width=300)"
   ]
  },
  {
   "attachments": {},
   "cell_type": "markdown",
   "id": "40908728-1448-461d-828e-04e90cc53e53",
   "metadata": {},
   "source": [
    "<b>Figur 1.</b> Kule som ruller på et krumt underlag. Her er $v$ kulas fart,\n",
    "$a$ er baneakselerasjon, $a_\\perp$ er sentripetalakselerasjon, $Mg$ er tyngdekraft,\n",
    "$f$ er friksjonskraft og $N$ er normalkraft. <br><br>\n",
    "\n",
    "***"
   ]
  },
  {
   "cell_type": "markdown",
   "id": "c0c6cdee-c6b5-4c32-afd6-0a8e42defab1",
   "metadata": {},
   "source": [
    "## Metode\n",
    "Dette avsnittet inneholder en forholdsvis detaljert beskrivelse av utstyr og metoder som er brukt i\n",
    "prosjektet, både numeriske og eksperimentelle metoder.\n",
    "En figur som viser det eksperimentelle oppsettet inngår naturlig her.\n",
    "Metodedelen kan godt inneholde små kodesnutter som illustrerer hvordan ulike størrelser beregnes.\n",
    "Disse vil da typisk inkluderes i Markdown-celler, slik at notebooken ikke prøver å kjøre dem.\n",
    "\n",
    "Et konkret eksempel:\n",
    "\n",
    "Baneformen fastlegges ved hjelp av tredjegradspolynomer på intervallene mellom de 8 tilfeldig\n",
    "valgte skruefestehøydene, slik at både banen, dens deriverte og krumningen er kontinuerlige\n",
    "i skruefestene. Dette gjøres i Python med funksjonen CubicSpline fra SciPy-biblioteket interpolate\n",
    "med kommandoen\n",
    "\n",
    "*cs = CubicSpline(xfast,yfast,bc_type='natural')*\n",
    "\n",
    "Her er xfast og yfast tabeller (numpy arrays) med henholdsvis horisontale og vertikale koordinater \n",
    "for skruefestene, og med *bc_type='natural'* velges krumning lik null i de to ytterste skruefestene.\n"
   ]
  },
  {
   "attachments": {},
   "cell_type": "markdown",
   "id": "83eb3a17-390a-4499-aab6-0c8ab569096e",
   "metadata": {},
   "source": [
    "Deretter vil den konkrete <i>bruken</i> av funksjonen *CubicSpline* komme\n",
    "i Resultat-avsnittet.\n",
    "***"
   ]
  },
  {
   "attachments": {},
   "cell_type": "markdown",
   "id": "f152717b-9c73-464c-8bcc-4d5368ab8cf9",
   "metadata": {},
   "source": [
    "## Resultater\n",
    "Her presenteres numeriske og eksperimentelle resultater. Dere inkluderer figurer i henhold til rapportkravene, samt tallverdier for kulas rulletid, slutthastighet, tilhørende kinetisk energi, og tap i mekanisk energi, med tilhørende usikkerhet. Anvendt pythonkode inngår naturlig her. En må forvente at dette avsnittet opptar størst plass i rapporten. \n",
    "***"
   ]
  },
  {
   "attachments": {},
   "cell_type": "markdown",
   "id": "36daaacf-50d3-4562-97f8-ed9c1cd58dff",
   "metadata": {},
   "source": [
    "## Diskusjon\n",
    "Her diskuteres resultatene, både de numeriske og de eksperimentelle. <br>\n",
    "\n",
    "- Kan forskjellene mellom numerisk og eksperimentell hastighet $v(x)$ forklares med utgangspunkt i\n",
    "forskjellene mellom numerisk og eksperimentell baneform $y(x)$?\n",
    "- Er grafene for $v(x)$, $N(x)$ og $f(x)$ rimelige med utgangspunkt i baneformen $y(x)$? \n",
    "Vurder spesielt topp-punkt, bunnpunkt(er) og vendepunkter.\n",
    "- Er det sannsynlig at baneformen gir ren rulling? Dette avhenger av at beregnet friksjonskraft hele veien er mindre enn maksimal statisk friksjonskraft, som er gitt ved $\\mu_s N$. Grafen for $|f(x)/N(x)|$ gir grunnlag for å diskutere dette.\n",
    "- Er målt rulletid rimelig, med utgangspunkt i beregnet rulletid?\n",
    "- Er målt tap i mekanisk energi rimelig? Diskuter feilkilder.\n",
    "***"
   ]
  },
  {
   "cell_type": "markdown",
   "id": "18d783c0-3fdc-496a-9e3c-2c9643c8ea24",
   "metadata": {},
   "source": [
    "## Konklusjon\n",
    "Dette er en kort oppsummering av det som ble gjort og hvilke resultater som ble oppnådd. Tallverdier for numerisk vs eksperimentell rulletid og sluttfart oppgis, samt tap i mekanisk energi med usikkerhet. "
   ]
  },
  {
   "cell_type": "markdown",
   "id": "20c04579-d9f8-4c44-9d61-16430a1df4ed",
   "metadata": {},
   "source": [
    "## Referanser\n",
    "En labrapport som denne vil typisk inneholde et *lite* antall referanser. Av den grunn\n",
    "er det greit å nummerere disse manuelt. Hvis du sjekker ulike\n",
    "tidsskrifter, vil du se at ulike konvensjoner for formatering av referanser benyttes.\n",
    "Det viktige er at referanselista formateres systematisk. Nedenfor viser vi eksempler på\n",
    "henvisning til tidsskriftartikler, bok og url, med formatering\n",
    "som benyttet i tidsskriftet Physical Review Letters: <br>\n",
    "\n",
    "[1] D. Xiao, W. Yao, and Q. Niu, Valley-Contrasting Physics in Graphene: Magnetic Moment and Topological Transport, Phys. Rev. Lett. <b>99</b>, 236809 (2007).  <br>\n",
    "\n",
    "[2] D. Xiao, M.-C. Chang, and Q. Niu, Berry phase effects on electronic properties, \n",
    "Rev. Mod. Phys. <b>82</b>, 1959 (2010).  <br>\n",
    "\n",
    "[3] T. Ihn, <i>Semiconductor Nanostructures: Quantum States and\n",
    "Electronic Transport</i> (Oxford University Press, New York,\n",
    "2010). <br>\n",
    "\n",
    "[4] See Supplemental Materials at\n",
    "<a href=\"http://link.aps.org/supplemental/10.1103/PhysRevLett.128.067702\">\n",
    "link.aps.org/supplemental/10.1103/PhysRevLett.128.067702</a>.\n",
    "<br><br>\n",
    "\n",
    "Til sammenligning, et par referanser fra en artikkel i Chemical Reviews: <br>\n",
    "\n",
    "(1) Ayyagari, A. V.; Gwalani, B.; Muskeri, S.; Mukherjee, S.;\n",
    "Banerjee, R. Surface degradation mechanisms in precipitationhardened high-entropy alloys. *npj Materials Degradation* <b>2018</b>, *2*, 33.  <br>\n",
    "(2) Frankel, G. S.; Vienna, J. D.; Lian, J.; Scully, J. R.; Gin, S.; Ryan,\n",
    "J. V.; Wang, J.; Kim, S. H.; Windl, W.; Du, J. A comparative review of\n",
    "the aqueous corrosion of glasses, crystalline ceramics, and metals. *npj\n",
    "Materials Degradation* <b>2018</b>, *2*, 15. <br>\n",
    "\n",
    "Små, men *mange* forskjeller: type parentes i referansenummeret; plassering, parentesbruk og \n",
    "font for årstall; plassering av forbokstav i fornavn; *and* eller ikke *and* foran sistnevnte \n",
    "av tre eller flere forfattere. Ubetydelige valg i seg selv, men viktig at alt gjøres *systematisk*.\n"
   ]
  }
 ],
 "metadata": {
  "kernelspec": {
   "display_name": "Python 3",
   "language": "python",
   "name": "python3"
  },
  "language_info": {
   "codemirror_mode": {
    "name": "ipython",
    "version": 3
   },
   "file_extension": ".py",
   "mimetype": "text/x-python",
   "name": "python",
   "nbconvert_exporter": "python",
   "pygments_lexer": "ipython3",
   "version": "3.10.7"
  },
  "vscode": {
   "interpreter": {
    "hash": "733bd08bdeb9f83ff5f7ab9bbd3f1163196c8a89100692b57c1dcc484400f7cc"
   }
  }
 },
 "nbformat": 4,
 "nbformat_minor": 5
}
