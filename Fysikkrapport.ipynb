{
 "cells": [
  {
   "attachments": {},
   "cell_type": "markdown",
   "id": "65c88b08-8adf-4998-be6e-dd1a43db46c2",
   "metadata": {},
   "source": [
    "# Labrapport som Jupyter Notebook på fysikklab våren 2023\n",
    "Skrevet 16.03.2023 <br>\n",
    "Skrevet av Emma Amalie Chun Hui Birkhaug Pedersen, Halvor Linder Henriksen, Oskar Jørgensen og Sindre Eidskrem <br>\n",
    "Institutt for Fysikk, NTNU\n",
    "***"
   ]
  },
  {
   "attachments": {},
   "cell_type": "markdown",
   "id": "7792909c-f7e7-447d-9b3f-7ad73c4ac56c",
   "metadata": {},
   "source": [
    "## Sammendrag\n",
    "Sammendraget inneholder en konsis oppsummering av innholdet i oppgaven. Det kan være en god idé å skrive denne delen til slutt, når du har god oversikt over hele teksten. Typisk inneholder sammendraget 4-5 setninger. På disse få setningene skal førsøket introduseres, de eksperimentelle og numeriske metodene nevnes, og resultatene - og deres betydning - skal presenteres. Sentrale tallverdier oppgis med tilhørende usikkerhet.\n",
    "\n",
    "***"
   ]
  },
  {
   "attachments": {},
   "cell_type": "markdown",
   "id": "c768bc29-6c3b-4f31-b896-877254d81848",
   "metadata": {},
   "source": [
    "## Introduksjon\n",
    "Selve rapporten starter her. Introduksjonen bør inneholde en tydelig motivasjon og hensikt ved forsøket. Her kan også teksten settes i en historisk sammenheng. Det vil i så fall være natulig å referere til relevant litteratur.\n",
    "***"
   ]
  },
  {
   "attachments": {},
   "cell_type": "markdown",
   "id": "c776efaa-105e-4587-85d0-3e10778fda0b",
   "metadata": {},
   "source": [
    "## Teori\n",
    "Her presenteres relevant teori nødvendig for å lese resten av rapporten. Jupyter notebook støtter LaTeX-kode, så dere kan inkludere fint formaterte ligninger her. For eksempel har vi sett at baneakselerasjonen til ei kompakt kule som ruller på et krumt underlag uten å slure (gli) er gitt ved\n",
    "$$a = -\\frac{5g\\sin{\\beta}}{7},\\label{eq1}\\tag{1}$$\n",
    "der $g$ er tyngdens akselerasjon og $\\beta$ er banens helningsvinkel. Her forklarer vi alle nye størrelser som blir innført med ord. <br>\n",
    "For at dette skal ha god flyt, skal ligningene kunne leses som en naturlig del av setningen, slik som ovenfor. \n",
    "\n",
    "Teoridelen inneholder ikke referanser til selve forsøket. Den er generell og kan leses isolert fra resten av rapporten.\n",
    "\n",
    "Her vil det ofte være naturlig å inkludere en eller flere forklarende figurer. Disse skal dere lage selv, for eksempel ved hjelp av [Inkscape](https://inkscape.org/) som er et nokså brukervennlig program for å lage vektorgrafikk. Her er et eksempel på en slik figur:"
   ]
  },
  {
   "cell_type": "code",
   "execution_count": 1,
   "id": "c373cade-ba88-44b8-91be-b0401089572e",
   "metadata": {},
   "outputs": [
    {
     "ename": "FileNotFoundError",
     "evalue": "No such file or directory: './krefter.png'",
     "output_type": "error",
     "traceback": [
      "\u001b[1;31m---------------------------------------------------------------------------\u001b[0m",
      "\u001b[1;31mTypeError\u001b[0m                                 Traceback (most recent call last)",
      "\u001b[1;32m~\\AppData\\Local\\Packages\\PythonSoftwareFoundation.Python.3.8_qbz5n2kfra8p0\\LocalCache\\local-packages\\Python38\\site-packages\\IPython\\core\\display.py\u001b[0m in \u001b[0;36m_data_and_metadata\u001b[1;34m(self, always_both)\u001b[0m\n\u001b[0;32m   1299\u001b[0m         \u001b[1;32mtry\u001b[0m\u001b[1;33m:\u001b[0m\u001b[1;33m\u001b[0m\u001b[1;33m\u001b[0m\u001b[0m\n\u001b[1;32m-> 1300\u001b[1;33m             \u001b[0mb64_data\u001b[0m \u001b[1;33m=\u001b[0m \u001b[0mb2a_base64\u001b[0m\u001b[1;33m(\u001b[0m\u001b[0mself\u001b[0m\u001b[1;33m.\u001b[0m\u001b[0mdata\u001b[0m\u001b[1;33m)\u001b[0m\u001b[1;33m.\u001b[0m\u001b[0mdecode\u001b[0m\u001b[1;33m(\u001b[0m\u001b[1;34m'ascii'\u001b[0m\u001b[1;33m)\u001b[0m\u001b[1;33m\u001b[0m\u001b[1;33m\u001b[0m\u001b[0m\n\u001b[0m\u001b[0;32m   1301\u001b[0m         \u001b[1;32mexcept\u001b[0m \u001b[0mTypeError\u001b[0m\u001b[1;33m:\u001b[0m\u001b[1;33m\u001b[0m\u001b[1;33m\u001b[0m\u001b[0m\n",
      "\u001b[1;31mTypeError\u001b[0m: a bytes-like object is required, not 'str'",
      "\nDuring handling of the above exception, another exception occurred:\n",
      "\u001b[1;31mFileNotFoundError\u001b[0m                         Traceback (most recent call last)",
      "\u001b[1;32m~\\AppData\\Local\\Packages\\PythonSoftwareFoundation.Python.3.8_qbz5n2kfra8p0\\LocalCache\\local-packages\\Python38\\site-packages\\IPython\\core\\formatters.py\u001b[0m in \u001b[0;36m__call__\u001b[1;34m(self, obj, include, exclude)\u001b[0m\n\u001b[0;32m    968\u001b[0m \u001b[1;33m\u001b[0m\u001b[0m\n\u001b[0;32m    969\u001b[0m             \u001b[1;32mif\u001b[0m \u001b[0mmethod\u001b[0m \u001b[1;32mis\u001b[0m \u001b[1;32mnot\u001b[0m \u001b[1;32mNone\u001b[0m\u001b[1;33m:\u001b[0m\u001b[1;33m\u001b[0m\u001b[1;33m\u001b[0m\u001b[0m\n\u001b[1;32m--> 970\u001b[1;33m                 \u001b[1;32mreturn\u001b[0m \u001b[0mmethod\u001b[0m\u001b[1;33m(\u001b[0m\u001b[0minclude\u001b[0m\u001b[1;33m=\u001b[0m\u001b[0minclude\u001b[0m\u001b[1;33m,\u001b[0m \u001b[0mexclude\u001b[0m\u001b[1;33m=\u001b[0m\u001b[0mexclude\u001b[0m\u001b[1;33m)\u001b[0m\u001b[1;33m\u001b[0m\u001b[1;33m\u001b[0m\u001b[0m\n\u001b[0m\u001b[0;32m    971\u001b[0m             \u001b[1;32mreturn\u001b[0m \u001b[1;32mNone\u001b[0m\u001b[1;33m\u001b[0m\u001b[1;33m\u001b[0m\u001b[0m\n\u001b[0;32m    972\u001b[0m         \u001b[1;32melse\u001b[0m\u001b[1;33m:\u001b[0m\u001b[1;33m\u001b[0m\u001b[1;33m\u001b[0m\u001b[0m\n",
      "\u001b[1;32m~\\AppData\\Local\\Packages\\PythonSoftwareFoundation.Python.3.8_qbz5n2kfra8p0\\LocalCache\\local-packages\\Python38\\site-packages\\IPython\\core\\display.py\u001b[0m in \u001b[0;36m_repr_mimebundle_\u001b[1;34m(self, include, exclude)\u001b[0m\n\u001b[0;32m   1288\u001b[0m         \u001b[1;32mif\u001b[0m \u001b[0mself\u001b[0m\u001b[1;33m.\u001b[0m\u001b[0membed\u001b[0m\u001b[1;33m:\u001b[0m\u001b[1;33m\u001b[0m\u001b[1;33m\u001b[0m\u001b[0m\n\u001b[0;32m   1289\u001b[0m             \u001b[0mmimetype\u001b[0m \u001b[1;33m=\u001b[0m \u001b[0mself\u001b[0m\u001b[1;33m.\u001b[0m\u001b[0m_mimetype\u001b[0m\u001b[1;33m\u001b[0m\u001b[1;33m\u001b[0m\u001b[0m\n\u001b[1;32m-> 1290\u001b[1;33m             \u001b[0mdata\u001b[0m\u001b[1;33m,\u001b[0m \u001b[0mmetadata\u001b[0m \u001b[1;33m=\u001b[0m \u001b[0mself\u001b[0m\u001b[1;33m.\u001b[0m\u001b[0m_data_and_metadata\u001b[0m\u001b[1;33m(\u001b[0m\u001b[0malways_both\u001b[0m\u001b[1;33m=\u001b[0m\u001b[1;32mTrue\u001b[0m\u001b[1;33m)\u001b[0m\u001b[1;33m\u001b[0m\u001b[1;33m\u001b[0m\u001b[0m\n\u001b[0m\u001b[0;32m   1291\u001b[0m             \u001b[1;32mif\u001b[0m \u001b[0mmetadata\u001b[0m\u001b[1;33m:\u001b[0m\u001b[1;33m\u001b[0m\u001b[1;33m\u001b[0m\u001b[0m\n\u001b[0;32m   1292\u001b[0m                 \u001b[0mmetadata\u001b[0m \u001b[1;33m=\u001b[0m \u001b[1;33m{\u001b[0m\u001b[0mmimetype\u001b[0m\u001b[1;33m:\u001b[0m \u001b[0mmetadata\u001b[0m\u001b[1;33m}\u001b[0m\u001b[1;33m\u001b[0m\u001b[1;33m\u001b[0m\u001b[0m\n",
      "\u001b[1;32m~\\AppData\\Local\\Packages\\PythonSoftwareFoundation.Python.3.8_qbz5n2kfra8p0\\LocalCache\\local-packages\\Python38\\site-packages\\IPython\\core\\display.py\u001b[0m in \u001b[0;36m_data_and_metadata\u001b[1;34m(self, always_both)\u001b[0m\n\u001b[0;32m   1300\u001b[0m             \u001b[0mb64_data\u001b[0m \u001b[1;33m=\u001b[0m \u001b[0mb2a_base64\u001b[0m\u001b[1;33m(\u001b[0m\u001b[0mself\u001b[0m\u001b[1;33m.\u001b[0m\u001b[0mdata\u001b[0m\u001b[1;33m)\u001b[0m\u001b[1;33m.\u001b[0m\u001b[0mdecode\u001b[0m\u001b[1;33m(\u001b[0m\u001b[1;34m'ascii'\u001b[0m\u001b[1;33m)\u001b[0m\u001b[1;33m\u001b[0m\u001b[1;33m\u001b[0m\u001b[0m\n\u001b[0;32m   1301\u001b[0m         \u001b[1;32mexcept\u001b[0m \u001b[0mTypeError\u001b[0m\u001b[1;33m:\u001b[0m\u001b[1;33m\u001b[0m\u001b[1;33m\u001b[0m\u001b[0m\n\u001b[1;32m-> 1302\u001b[1;33m             raise FileNotFoundError(\n\u001b[0m\u001b[0;32m   1303\u001b[0m                 \"No such file or directory: '%s'\" % (self.data))\n\u001b[0;32m   1304\u001b[0m         \u001b[0mmd\u001b[0m \u001b[1;33m=\u001b[0m \u001b[1;33m{\u001b[0m\u001b[1;33m}\u001b[0m\u001b[1;33m\u001b[0m\u001b[1;33m\u001b[0m\u001b[0m\n",
      "\u001b[1;31mFileNotFoundError\u001b[0m: No such file or directory: './krefter.png'"
     ]
    },
    {
     "ename": "FileNotFoundError",
     "evalue": "No such file or directory: './krefter.png'",
     "output_type": "error",
     "traceback": [
      "\u001b[1;31m---------------------------------------------------------------------------\u001b[0m",
      "\u001b[1;31mTypeError\u001b[0m                                 Traceback (most recent call last)",
      "\u001b[1;32m~\\AppData\\Local\\Packages\\PythonSoftwareFoundation.Python.3.8_qbz5n2kfra8p0\\LocalCache\\local-packages\\Python38\\site-packages\\IPython\\core\\display.py\u001b[0m in \u001b[0;36m_data_and_metadata\u001b[1;34m(self, always_both)\u001b[0m\n\u001b[0;32m   1299\u001b[0m         \u001b[1;32mtry\u001b[0m\u001b[1;33m:\u001b[0m\u001b[1;33m\u001b[0m\u001b[1;33m\u001b[0m\u001b[0m\n\u001b[1;32m-> 1300\u001b[1;33m             \u001b[0mb64_data\u001b[0m \u001b[1;33m=\u001b[0m \u001b[0mb2a_base64\u001b[0m\u001b[1;33m(\u001b[0m\u001b[0mself\u001b[0m\u001b[1;33m.\u001b[0m\u001b[0mdata\u001b[0m\u001b[1;33m)\u001b[0m\u001b[1;33m.\u001b[0m\u001b[0mdecode\u001b[0m\u001b[1;33m(\u001b[0m\u001b[1;34m'ascii'\u001b[0m\u001b[1;33m)\u001b[0m\u001b[1;33m\u001b[0m\u001b[1;33m\u001b[0m\u001b[0m\n\u001b[0m\u001b[0;32m   1301\u001b[0m         \u001b[1;32mexcept\u001b[0m \u001b[0mTypeError\u001b[0m\u001b[1;33m:\u001b[0m\u001b[1;33m\u001b[0m\u001b[1;33m\u001b[0m\u001b[0m\n",
      "\u001b[1;31mTypeError\u001b[0m: a bytes-like object is required, not 'str'",
      "\nDuring handling of the above exception, another exception occurred:\n",
      "\u001b[1;31mFileNotFoundError\u001b[0m                         Traceback (most recent call last)",
      "\u001b[1;32m~\\AppData\\Local\\Packages\\PythonSoftwareFoundation.Python.3.8_qbz5n2kfra8p0\\LocalCache\\local-packages\\Python38\\site-packages\\IPython\\core\\formatters.py\u001b[0m in \u001b[0;36m__call__\u001b[1;34m(self, obj)\u001b[0m\n\u001b[0;32m    343\u001b[0m             \u001b[0mmethod\u001b[0m \u001b[1;33m=\u001b[0m \u001b[0mget_real_method\u001b[0m\u001b[1;33m(\u001b[0m\u001b[0mobj\u001b[0m\u001b[1;33m,\u001b[0m \u001b[0mself\u001b[0m\u001b[1;33m.\u001b[0m\u001b[0mprint_method\u001b[0m\u001b[1;33m)\u001b[0m\u001b[1;33m\u001b[0m\u001b[1;33m\u001b[0m\u001b[0m\n\u001b[0;32m    344\u001b[0m             \u001b[1;32mif\u001b[0m \u001b[0mmethod\u001b[0m \u001b[1;32mis\u001b[0m \u001b[1;32mnot\u001b[0m \u001b[1;32mNone\u001b[0m\u001b[1;33m:\u001b[0m\u001b[1;33m\u001b[0m\u001b[1;33m\u001b[0m\u001b[0m\n\u001b[1;32m--> 345\u001b[1;33m                 \u001b[1;32mreturn\u001b[0m \u001b[0mmethod\u001b[0m\u001b[1;33m(\u001b[0m\u001b[1;33m)\u001b[0m\u001b[1;33m\u001b[0m\u001b[1;33m\u001b[0m\u001b[0m\n\u001b[0m\u001b[0;32m    346\u001b[0m             \u001b[1;32mreturn\u001b[0m \u001b[1;32mNone\u001b[0m\u001b[1;33m\u001b[0m\u001b[1;33m\u001b[0m\u001b[0m\n\u001b[0;32m    347\u001b[0m         \u001b[1;32melse\u001b[0m\u001b[1;33m:\u001b[0m\u001b[1;33m\u001b[0m\u001b[1;33m\u001b[0m\u001b[0m\n",
      "\u001b[1;32m~\\AppData\\Local\\Packages\\PythonSoftwareFoundation.Python.3.8_qbz5n2kfra8p0\\LocalCache\\local-packages\\Python38\\site-packages\\IPython\\core\\display.py\u001b[0m in \u001b[0;36m_repr_png_\u001b[1;34m(self)\u001b[0m\n\u001b[0;32m   1318\u001b[0m     \u001b[1;32mdef\u001b[0m \u001b[0m_repr_png_\u001b[0m\u001b[1;33m(\u001b[0m\u001b[0mself\u001b[0m\u001b[1;33m)\u001b[0m\u001b[1;33m:\u001b[0m\u001b[1;33m\u001b[0m\u001b[1;33m\u001b[0m\u001b[0m\n\u001b[0;32m   1319\u001b[0m         \u001b[1;32mif\u001b[0m \u001b[0mself\u001b[0m\u001b[1;33m.\u001b[0m\u001b[0membed\u001b[0m \u001b[1;32mand\u001b[0m \u001b[0mself\u001b[0m\u001b[1;33m.\u001b[0m\u001b[0mformat\u001b[0m \u001b[1;33m==\u001b[0m \u001b[0mself\u001b[0m\u001b[1;33m.\u001b[0m\u001b[0m_FMT_PNG\u001b[0m\u001b[1;33m:\u001b[0m\u001b[1;33m\u001b[0m\u001b[1;33m\u001b[0m\u001b[0m\n\u001b[1;32m-> 1320\u001b[1;33m             \u001b[1;32mreturn\u001b[0m \u001b[0mself\u001b[0m\u001b[1;33m.\u001b[0m\u001b[0m_data_and_metadata\u001b[0m\u001b[1;33m(\u001b[0m\u001b[1;33m)\u001b[0m\u001b[1;33m\u001b[0m\u001b[1;33m\u001b[0m\u001b[0m\n\u001b[0m\u001b[0;32m   1321\u001b[0m \u001b[1;33m\u001b[0m\u001b[0m\n\u001b[0;32m   1322\u001b[0m     \u001b[1;32mdef\u001b[0m \u001b[0m_repr_jpeg_\u001b[0m\u001b[1;33m(\u001b[0m\u001b[0mself\u001b[0m\u001b[1;33m)\u001b[0m\u001b[1;33m:\u001b[0m\u001b[1;33m\u001b[0m\u001b[1;33m\u001b[0m\u001b[0m\n",
      "\u001b[1;32m~\\AppData\\Local\\Packages\\PythonSoftwareFoundation.Python.3.8_qbz5n2kfra8p0\\LocalCache\\local-packages\\Python38\\site-packages\\IPython\\core\\display.py\u001b[0m in \u001b[0;36m_data_and_metadata\u001b[1;34m(self, always_both)\u001b[0m\n\u001b[0;32m   1300\u001b[0m             \u001b[0mb64_data\u001b[0m \u001b[1;33m=\u001b[0m \u001b[0mb2a_base64\u001b[0m\u001b[1;33m(\u001b[0m\u001b[0mself\u001b[0m\u001b[1;33m.\u001b[0m\u001b[0mdata\u001b[0m\u001b[1;33m)\u001b[0m\u001b[1;33m.\u001b[0m\u001b[0mdecode\u001b[0m\u001b[1;33m(\u001b[0m\u001b[1;34m'ascii'\u001b[0m\u001b[1;33m)\u001b[0m\u001b[1;33m\u001b[0m\u001b[1;33m\u001b[0m\u001b[0m\n\u001b[0;32m   1301\u001b[0m         \u001b[1;32mexcept\u001b[0m \u001b[0mTypeError\u001b[0m\u001b[1;33m:\u001b[0m\u001b[1;33m\u001b[0m\u001b[1;33m\u001b[0m\u001b[0m\n\u001b[1;32m-> 1302\u001b[1;33m             raise FileNotFoundError(\n\u001b[0m\u001b[0;32m   1303\u001b[0m                 \"No such file or directory: '%s'\" % (self.data))\n\u001b[0;32m   1304\u001b[0m         \u001b[0mmd\u001b[0m \u001b[1;33m=\u001b[0m \u001b[1;33m{\u001b[0m\u001b[1;33m}\u001b[0m\u001b[1;33m\u001b[0m\u001b[1;33m\u001b[0m\u001b[0m\n",
      "\u001b[1;31mFileNotFoundError\u001b[0m: No such file or directory: './krefter.png'"
     ]
    },
    {
     "data": {
      "text/plain": [
       "<IPython.core.display.Image object>"
      ]
     },
     "execution_count": 1,
     "metadata": {},
     "output_type": "execute_result"
    }
   ],
   "source": [
    "from IPython import display\n",
    "display.Image(\"./krefter.png\", width=300)"
   ]
  },
  {
   "attachments": {},
   "cell_type": "markdown",
   "id": "40908728-1448-461d-828e-04e90cc53e53",
   "metadata": {},
   "source": [
    "<b>Figur 1.</b> Kule som ruller på et krumt underlag. Her er $v$ kulas fart,\n",
    "$a$ er baneakselerasjon, $a_\\perp$ er sentripetalakselerasjon, $Mg$ er tyngdekraft,\n",
    "$f$ er friksjonskraft og $N$ er normalkraft. <br><br>\n",
    "\n",
    "***"
   ]
  },
  {
   "attachments": {},
   "cell_type": "markdown",
   "id": "c0c6cdee-c6b5-4c32-afd6-0a8e42defab1",
   "metadata": {},
   "source": [
    "## Metode"
   ]
  },
  {
   "attachments": {},
   "cell_type": "markdown",
   "id": "e7324f7e",
   "metadata": {},
   "source": [
    "### Utstyr\n",
    "\n",
    "- Gummikule med vekt 30.5g og radius 19.8cm\n",
    "- Kamera som filmer med 30fps\n",
    "- Tripod\n",
    "- Bane på 1.4m horisontal lengde med 8 justerbare festepunkter\n",
    "- Vekt\n",
    "- Linjal\n",
    "- Tracker (Software)"
   ]
  },
  {
   "attachments": {},
   "cell_type": "markdown",
   "id": "bb55a65e",
   "metadata": {},
   "source": [
    "### Beregninger\n",
    "Baneformen bestemmes ved å generere 7 tilfeldige høydeverdier i intervallet 0-300mm, for så å tilpasse tredjegradspolynomer mellom punktene. Avstanden mellom hvert festepunk er 200mm i x-retning. \n",
    "Dette gjøres i Python med funksjonen CubicSpline fra SciPy-biblioteket interpolate\n",
    "med kommandoen\n",
    "\n",
    "```python\n",
    "cs = CubicSpline(xfast,yfast,bc_type='natural')\n",
    "```\n",
    "\n",
    "Her er xfast og yfast tabeller (numpy arrays) med henholdsvis horisontale og vertikale koordinater \n",
    "for skruefestene, og med *bc_type='natural'* velges krumning lik null i de to ytterste skruefestene.\n",
    "\n",
    "Fra den resulterende funksjonen vil da være 2 ganger kontunierlig deriverbar, og krumningen vil også være kontinuerlig. Funksjonens første- og andrederiverte, så vel som krumningen kan så regnes ut ved hjelp av funksjonen cs:\n",
    "\n",
    "```python\n",
    "y = cs(x)\n",
    "```  \n",
    "```python\n",
    "dy = cs(x,1)\n",
    "```  \n",
    "```python\n",
    "d2y = cs(x,2)\n",
    "```  \n",
    "\n",
    "```python\n",
    "curvature = d2y / np.power((1 + np.power(dy, 2)), 3/2)\n",
    "```\n",
    "\n",
    "Videre kan banens helningsvinkel regnes ut ved:  \n",
    "```python\n",
    "beta = [np.arctan(x) for x in dy]\n",
    "```\n",
    "\n",
    "Her er x et array som representerer heltallige x-verdier i intervallet 0-1400mm. Det andre argumentet til cs er antall ganger funksjonen skal deriveres.\n",
    "\n",
    "Kulens hastighet som funksjon av x kan regnes ut ved hjelp av energibevaring på følgende måte:  \n",
    "```python\n",
    "vel = [np.sqrt(10/7 * g * (y[0] - y[x])) for x in range(len(y))]\n",
    "```\n",
    "\n",
    "Hastigheten kan så dekomponeres for å finne hastigheten i x-retning:  \n",
    "```python\n",
    "x_vel = [v * np.cos(b) for v, b in zip(vel, beta)]\n",
    "```\n",
    "\n",
    "Da er gjennomsnittlig x-hastighet på hvert millimeter-intervall gitt ved:  \n",
    "```python\n",
    "x_avg_vel = [(x_vel[i-1] + x_vel[i])/2 for i in range(1, len(x_vel))]\n",
    "```\n",
    "\n",
    "Tiden brukt på hvert x-intervall kan så finnes ved:  \n",
    "```python\n",
    "delta_t = [1/x for x in x_avg_vel]\n",
    "```\n",
    "\n",
    "Den totale tiden frem til hvert x-punkt kan deretter regnes ut med en cumulativ sum:  \n",
    "```python\n",
    "time = np.cumsum(delta_t)\n",
    "```\n",
    "Starttiden t(0)=0 kan deretter legger til manuelt:\n",
    "```python\n",
    "time = np.insert(time, 0, 0, axis=0)\n",
    "```\n",
    "\n",
    "Sentripetalakselerasjonen gitt x kan så regnes ut fra kulens hastighet og banens krumning i x:  \n",
    "```python\n",
    "sentripetal_acceleration = np.multiply(np.power(np.array(vel), 2), curvature)\n",
    "```\n",
    "\n",
    "Videre kan normalkraften beregnes fra banens helningsvinkel og kulens sentripetalakselerasjon:  \n",
    "```python\n",
    "M = 0.0305\n",
    "c = 2/5\n",
    "\n",
    "normal_force = M * (g * np.cos(np.array(beta)) + sentripetal_acceleration)\n",
    "```\n",
    "Her er M kulens masse målt i kg, mens c er c-verdien for en kule.\n",
    "\n",
    "Kulens baneakselerasjon kan så regnes ut fra banens helningsvinkel:  \n",
    "```python\n",
    "path_acceleration = - (5*g*np.sin(np.array(beta))/7)\n",
    "```\n",
    "\n",
    "Videre kan friksjonskraften gitt x også også regnes ut ved helningsvinkelen:\n",
    "```python\n",
    "friction = c / (1+c) * M*g*np.sin(np.array(beta))\n",
    "```\n",
    "\n"
   ]
  },
  {
   "attachments": {},
   "cell_type": "markdown",
   "id": "ab5403bf",
   "metadata": {},
   "source": [
    "### Målinger\n",
    "\n",
    "Den fysiske banens festepunkter fastsettes til de genererte høydene, med nullnivå ved banestativets base. \n",
    "Deretter festes kameraet til tripoden slik at planet definert av kameralinsen er parallelt med banens baktavle, samt at hele banen synes på filmen. \n",
    "\n",
    "Videre filmes 10 forsøk der ballen plasseres på banen over det første festepunktet og slippes uten å støtes langs banen.\n",
    "Forsøkensvideoene analyseres så i Tracker, før data for kulens x- og y-koordinater gitt ved tid relativt til starttidspunktet eksporteres til CSV.\n",
    "\n",
    "Deretter analyseres målingene i Python og sluttiden kan regnes ut som den numeriske tidsderiverte av den målte forflytningen mellom de to siste kamerabildene.  \n",
    "\n",
    "```python\n",
    "def get_end_velocity(file_path):\n",
    "    time_before, x_before, y_before, time_after, x_after, y_after = get_values_from_file(\n",
    "        file_path)\n",
    "    return math.sqrt((x_after-x_before)**2+(y_after-y_before)**2) / (time_after - time_before)\n",
    "\n",
    "\n",
    "for i in range(1, 11):\n",
    "    end_vel = get_end_velocity(f'kule_{ i }_data.txt')\n",
    "```\n",
    "Her er *get_values_from_file* en funksjon som returner målingene for de to siste målepunktene.\n",
    "\n",
    "Kulens totale kinetiske energi kan så regnes ut gitt dens slutthastighet:  \n",
    "```python\n",
    "Ks = np.zeros(10)\n",
    "for i in range(1,11):\n",
    "    K = (1+c)/2 * M * (get_end_velocity(f\"kule_{i}_data.txt\")/1000)**2\n",
    "    Ks[i-1] = K\n",
    "```\n",
    "Her deles hastigheten på 1000 for å konvertere fra mm/s til m/s\n",
    "\n",
    "Endringen i total energi regnes så ut med tilsvarende skalering:  \n",
    "```python\n",
    "DEs = np.zeros(10)\n",
    "for i in range(1,11):\n",
    "    _, _, _, _, _, y_after = get_values_from_file(f\"kule_{i}_data.txt\")\n",
    "    delta_e = m*(g/1000*(300-y_after)/1000-0.5*(get_end_velocity(f\"kule_{i}_data.txt\")/1000)**2)\n",
    "    DEs[i-1] = delta_e\n",
    "```\n",
    "\n",
    "Til slutt kan gjennomsnitt, standardavvik og standardfeil regnes ut med innebygde numpy-funksjoner:  \n",
    "```python\n",
    "    np.mean(DEs)\n",
    "    np.std(DEs)\n",
    "    np.std(DEs)/np.sqrt(10)\n",
    "```\n"
   ]
  },
  {
   "attachments": {},
   "cell_type": "markdown",
   "id": "83eb3a17-390a-4499-aab6-0c8ab569096e",
   "metadata": {},
   "source": [
    "***"
   ]
  },
  {
   "attachments": {},
   "cell_type": "markdown",
   "id": "f152717b-9c73-464c-8bcc-4d5368ab8cf9",
   "metadata": {},
   "source": [
    "## Resultater\n",
    "Her presenteres numeriske og eksperimentelle resultater. Dere inkluderer figurer i henhold til rapportkravene, samt tallverdier for kulas rulletid, slutthastighet, tilhørende kinetisk energi, og tap i mekanisk energi, med tilhørende usikkerhet. Anvendt pythonkode inngår naturlig her. En må forvente at dette avsnittet opptar størst plass i rapporten. \n",
    "***"
   ]
  },
  {
   "attachments": {},
   "cell_type": "markdown",
   "id": "beb46fd0",
   "metadata": {},
   "source": [
    "#### Baneform\n",
    "Her er den teoretiske baneformen, samt vår målte baneform. Vi skalerte våre målte verdier slik at differansen mellom første og siste x- og y-måling var lik.\n",
    "\n",
    "![Målt baneform](measured_baneform.png)"
   ]
  },
  {
   "attachments": {},
   "cell_type": "markdown",
   "id": "7c05e2ac",
   "metadata": {},
   "source": [
    "#### Fart\n",
    "Videre regnet vi ut både teoretisk og målt fart. Merk at vi igjen brukte de skalerte x- og y-verdiene til å regne ut kulas fart.\n",
    "\n",
    "![Målt fart](velocity_measured.png)"
   ]
  },
  {
   "attachments": {},
   "cell_type": "markdown",
   "id": "1b6bf8f3",
   "metadata": {},
   "source": [
    "#### Beregnet friksjonskraft og normalkraft \n",
    "Her er beregnet friksjonskraft $f(x)$ og normalkraft $N(x)$.\n",
    "![Friksjonskraft og normalkraft](normal_force_friction.png)\n",
    "\n",
    "Her er absoluttverdien til forholdet mellom de to kreftene plottet, $abs(f(x) / N(x))$\n",
    "![Forhold, krefter](ratio_forces.png)\n"
   ]
  },
  {
   "attachments": {},
   "cell_type": "markdown",
   "id": "4cd13f7e",
   "metadata": {},
   "source": [
    "#### Målt rulletid, slutthastighet, tilhørende kinetisk energi og tap i mekanisk energi \n",
    "\n",
    "**Rulletid**\n",
    "\n",
    "Den målte rulletiden er som følger:\n",
    " - Forsøk 1:  1.533 s\n",
    " - Forsøk 2:  1.534 s\n",
    " - Forsøk 3:  1.6   s\n",
    " - Forsøk 4:  1.567 s\n",
    " - Forsøk 5:  1.6   s\n",
    " - Forsøk 6:  1.567 s\n",
    " - Forsøk 7:  1.6   s\n",
    " - Forsøk 8:  1.5   s\n",
    " - Forsøk 9:  1.533 s\n",
    " - Forsøk 10: 1.5   s\n",
    "\n",
    " Dette gir gjennomsittlig rulletid på 1.553 s med en standardfeil på 0.0117 s\n",
    "\n",
    "\n",
    "**Slutthastighet**\n",
    "\n",
    "Den målte slutthastigheten er som følger:\n",
    " - Forsøk 1:  1071.385 mm/s\n",
    " - Forsøk 3:  1200.239 mm/s\n",
    " - Forsøk 2:  1135.609 mm/s\n",
    " - Forsøk 4:  1055.543 mm/s\n",
    " - Forsøk 5:  996.322  mm/s\n",
    " - Forsøk 6:  1145.994 mm/s\n",
    " - Forsøk 7:  1005.951 mm/s\n",
    " - Forsøk 8:  1227.327 mm/s\n",
    " - Forsøk 9:  1088.243 mm/s\n",
    " - Forsøk 10: 1195.584 mm/s\n",
    "\n",
    "Dette gir gjennomsittlig sluttfart på 1112.220 mm/s med en standardfeil på 24.457 mm/s\n",
    "\n",
    "**Kinetisk energi**\n",
    "\n",
    "Den beregnede kinetiske energien ved slutten er som følger:\n",
    "\n",
    " - Forsøk 1: 0.0245 J\n",
    " - Forsøk 2: 0.0275 J\n",
    " - Forsøk 3: 0.0307 J\n",
    " - Forsøk 4: 0.0237 J\n",
    " - Forsøk 5: 0.0211 J\n",
    " - Forsøk 6: 0.0280 J\n",
    " - Forsøk 7: 0.0216 J\n",
    " - Forsøk 8: 0.0321 J\n",
    " - Forsøk 9: 0.0252 J\n",
    " - Forsøk 10: 0.0305 J\n",
    "\n",
    " Dette gir en gjennomsnittlig kinetisk energi på 0.0265 J med en standardfeil på 0.00116 J.\n",
    "\n",
    "**Tap i mekanisk energi**\n",
    "\n",
    "Det beregnede tapet i mekanisk energi er som følger:\n",
    "\n",
    " - Forsøk 1:  0.0396 J\n",
    " - Forsøk 2:  0.0374 J\n",
    " - Forsøk 3:  0.0351 J\n",
    " - Forsøk 4:  0.0401 J\n",
    " - Forsøk 5:  0.0420 J\n",
    " - Forsøk 6:  0.0371 J\n",
    " - Forsøk 7:  0.0417 J\n",
    " - Forsøk 8:  0.0341 J\n",
    " - Forsøk 9:  0.0390 J\n",
    " - Forsøk 10: 0.0353 J\n",
    "\n",
    " Dette gir et gjennomsnittlig tap på 0.0382 J med en standardfeil på 0.000829 J."
   ]
  },
  {
   "attachments": {},
   "cell_type": "markdown",
   "id": "36daaacf-50d3-4562-97f8-ed9c1cd58dff",
   "metadata": {},
   "source": [
    "## Diskusjon\n",
    "Her diskuteres resultatene, både de numeriske og de eksperimentelle. <br>\n",
    "\n",
    "- Kan forskjellene mellom numerisk og eksperimentell hastighet $v(x)$ forklares med utgangspunkt i\n",
    "forskjellene mellom numerisk og eksperimentell baneform $y(x)$?\n",
    "- Er grafene for $v(x)$, $N(x)$ og $f(x)$ rimelige med utgangspunkt i baneformen $y(x)$? \n",
    "Vurder spesielt topp-punkt, bunnpunkt(er) og vendepunkter.\n",
    "- Er det sannsynlig at baneformen gir ren rulling? Dette avhenger av at beregnet friksjonskraft hele veien er mindre enn maksimal statisk friksjonskraft, som er gitt ved $\\mu_s N$. Grafen for $|f(x)/N(x)|$ gir grunnlag for å diskutere dette.\n",
    "- Er målt rulletid rimelig, med utgangspunkt i beregnet rulletid?\n",
    "- Er målt tap i mekanisk energi rimelig? Diskuter feilkilder.\n",
    "***"
   ]
  },
  {
   "cell_type": "markdown",
   "id": "18d783c0-3fdc-496a-9e3c-2c9643c8ea24",
   "metadata": {},
   "source": [
    "## Konklusjon\n",
    "Dette er en kort oppsummering av det som ble gjort og hvilke resultater som ble oppnådd. Tallverdier for numerisk vs eksperimentell rulletid og sluttfart oppgis, samt tap i mekanisk energi med usikkerhet. "
   ]
  },
  {
   "cell_type": "markdown",
   "id": "20c04579-d9f8-4c44-9d61-16430a1df4ed",
   "metadata": {},
   "source": [
    "## Referanser\n",
    "En labrapport som denne vil typisk inneholde et *lite* antall referanser. Av den grunn\n",
    "er det greit å nummerere disse manuelt. Hvis du sjekker ulike\n",
    "tidsskrifter, vil du se at ulike konvensjoner for formatering av referanser benyttes.\n",
    "Det viktige er at referanselista formateres systematisk. Nedenfor viser vi eksempler på\n",
    "henvisning til tidsskriftartikler, bok og url, med formatering\n",
    "som benyttet i tidsskriftet Physical Review Letters: <br>\n",
    "\n",
    "[1] D. Xiao, W. Yao, and Q. Niu, Valley-Contrasting Physics in Graphene: Magnetic Moment and Topological Transport, Phys. Rev. Lett. <b>99</b>, 236809 (2007).  <br>\n",
    "\n",
    "[2] D. Xiao, M.-C. Chang, and Q. Niu, Berry phase effects on electronic properties, \n",
    "Rev. Mod. Phys. <b>82</b>, 1959 (2010).  <br>\n",
    "\n",
    "[3] T. Ihn, <i>Semiconductor Nanostructures: Quantum States and\n",
    "Electronic Transport</i> (Oxford University Press, New York,\n",
    "2010). <br>\n",
    "\n",
    "[4] See Supplemental Materials at\n",
    "<a href=\"http://link.aps.org/supplemental/10.1103/PhysRevLett.128.067702\">\n",
    "link.aps.org/supplemental/10.1103/PhysRevLett.128.067702</a>.\n",
    "<br><br>\n",
    "\n",
    "Til sammenligning, et par referanser fra en artikkel i Chemical Reviews: <br>\n",
    "\n",
    "(1) Ayyagari, A. V.; Gwalani, B.; Muskeri, S.; Mukherjee, S.;\n",
    "Banerjee, R. Surface degradation mechanisms in precipitationhardened high-entropy alloys. *npj Materials Degradation* <b>2018</b>, *2*, 33.  <br>\n",
    "(2) Frankel, G. S.; Vienna, J. D.; Lian, J.; Scully, J. R.; Gin, S.; Ryan,\n",
    "J. V.; Wang, J.; Kim, S. H.; Windl, W.; Du, J. A comparative review of\n",
    "the aqueous corrosion of glasses, crystalline ceramics, and metals. *npj\n",
    "Materials Degradation* <b>2018</b>, *2*, 15. <br>\n",
    "\n",
    "Små, men *mange* forskjeller: type parentes i referansenummeret; plassering, parentesbruk og \n",
    "font for årstall; plassering av forbokstav i fornavn; *and* eller ikke *and* foran sistnevnte \n",
    "av tre eller flere forfattere. Ubetydelige valg i seg selv, men viktig at alt gjøres *systematisk*.\n"
   ]
  }
 ],
 "metadata": {
  "kernelspec": {
   "display_name": "FysikkLab",
   "language": "python",
   "name": "python3"
  },
  "language_info": {
   "codemirror_mode": {
    "name": "ipython",
    "version": 3
   },
   "file_extension": ".py",
   "mimetype": "text/x-python",
   "name": "python",
   "nbconvert_exporter": "python",
   "pygments_lexer": "ipython3",
   "version": "3.10.6"
  },
  "vscode": {
   "interpreter": {
    "hash": "2efae98daf6b511920071a7b195936a46ae2ef0d4224bfa61a3e840c0a8a5fd1"
   }
  }
 },
 "nbformat": 4,
 "nbformat_minor": 5
}
